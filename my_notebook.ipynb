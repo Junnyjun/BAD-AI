{
 "cells": [
  {
   "cell_type": "code",
   "execution_count": 1,
   "id": "initial_id",
   "metadata": {
    "collapsed": true,
    "ExecuteTime": {
     "end_time": "2024-01-30T11:56:40.111188Z",
     "start_time": "2024-01-30T11:56:39.906161Z"
    }
   },
   "outputs": [
    {
     "name": "stderr",
     "output_type": "stream",
     "text": [
      "/var/folders/x1/yv_pjg2s0nz4_tpx97f503_r0000gn/T/ipykernel_2685/3234122353.py:1: DeprecationWarning: \n",
      "Pyarrow will become a required dependency of pandas in the next major release of pandas (pandas 3.0),\n",
      "(to allow more performant data types, such as the Arrow string type, and better interoperability with other libraries)\n",
      "but was not found to be installed on your system.\n",
      "If this would cause problems for you,\n",
      "please provide us feedback at https://github.com/pandas-dev/pandas/issues/54466\n",
      "        \n",
      "  import pandas as pd\n"
     ]
    },
    {
     "data": {
      "text/plain": "        library  kernel_python 3.4  kernel_python 3.5  kernel_python 3.6  \\\n0         numpy              57564             578800            2108495   \n1    matplotlib              43181             438386            1625902   \n2        pandas              36357             346667            1530252   \n3       sklearn              14938             222672             912615   \n4            os              13200             176685             592084   \n5       seaborn               9578             105132             467280   \n6         scipy              12898             112992             402051   \n7          time               8722              86455             294717   \n8    tensorflow               4212             123837             269226   \n9        random               5325              75455             260000   \n10         math               6389              78262             245540   \n11          sys               7784              73858             250441   \n12      IPython              12886              81487             229599   \n13        keras               2447              67837             243403   \n14     datetime               5554              46305             190586   \n15           re               5898              48267             191965   \n16     warnings               3822              37276             180478   \n17  collections               5433              57516             177266   \n18         json               3662              41972             169014   \n19     requests               2429              28801             147782   \n\n    kernel_python 3.7  kernel_python 3.8  total_count  \n0             1739315              87656      4571830  \n1             1385835              75148      3568452  \n2             1500068              72433      3485777  \n3              799426              34921      1984572  \n4              436535              21914      1240418  \n5              513018              23289      1118297  \n6              319311              14664       861916  \n7              214953              10123       614970  \n8              155622               5548       558445  \n9              185925               8177       534882  \n10             194693               8754       533638  \n11             158359               9379       499821  \n12             152128               7994       484094  \n13             120632               2653       436972  \n14             180519              10067       433031  \n15             163205               7414       416749  \n16             185290               6575       413441  \n17             116257               6051       362523  \n18             132836               7443       354927  \n19             153160               8229       340401  ",
      "text/html": "<div>\n<style scoped>\n    .dataframe tbody tr th:only-of-type {\n        vertical-align: middle;\n    }\n\n    .dataframe tbody tr th {\n        vertical-align: top;\n    }\n\n    .dataframe thead th {\n        text-align: right;\n    }\n</style>\n<table border=\"1\" class=\"dataframe\">\n  <thead>\n    <tr style=\"text-align: right;\">\n      <th></th>\n      <th>library</th>\n      <th>kernel_python 3.4</th>\n      <th>kernel_python 3.5</th>\n      <th>kernel_python 3.6</th>\n      <th>kernel_python 3.7</th>\n      <th>kernel_python 3.8</th>\n      <th>total_count</th>\n    </tr>\n  </thead>\n  <tbody>\n    <tr>\n      <th>0</th>\n      <td>numpy</td>\n      <td>57564</td>\n      <td>578800</td>\n      <td>2108495</td>\n      <td>1739315</td>\n      <td>87656</td>\n      <td>4571830</td>\n    </tr>\n    <tr>\n      <th>1</th>\n      <td>matplotlib</td>\n      <td>43181</td>\n      <td>438386</td>\n      <td>1625902</td>\n      <td>1385835</td>\n      <td>75148</td>\n      <td>3568452</td>\n    </tr>\n    <tr>\n      <th>2</th>\n      <td>pandas</td>\n      <td>36357</td>\n      <td>346667</td>\n      <td>1530252</td>\n      <td>1500068</td>\n      <td>72433</td>\n      <td>3485777</td>\n    </tr>\n    <tr>\n      <th>3</th>\n      <td>sklearn</td>\n      <td>14938</td>\n      <td>222672</td>\n      <td>912615</td>\n      <td>799426</td>\n      <td>34921</td>\n      <td>1984572</td>\n    </tr>\n    <tr>\n      <th>4</th>\n      <td>os</td>\n      <td>13200</td>\n      <td>176685</td>\n      <td>592084</td>\n      <td>436535</td>\n      <td>21914</td>\n      <td>1240418</td>\n    </tr>\n    <tr>\n      <th>5</th>\n      <td>seaborn</td>\n      <td>9578</td>\n      <td>105132</td>\n      <td>467280</td>\n      <td>513018</td>\n      <td>23289</td>\n      <td>1118297</td>\n    </tr>\n    <tr>\n      <th>6</th>\n      <td>scipy</td>\n      <td>12898</td>\n      <td>112992</td>\n      <td>402051</td>\n      <td>319311</td>\n      <td>14664</td>\n      <td>861916</td>\n    </tr>\n    <tr>\n      <th>7</th>\n      <td>time</td>\n      <td>8722</td>\n      <td>86455</td>\n      <td>294717</td>\n      <td>214953</td>\n      <td>10123</td>\n      <td>614970</td>\n    </tr>\n    <tr>\n      <th>8</th>\n      <td>tensorflow</td>\n      <td>4212</td>\n      <td>123837</td>\n      <td>269226</td>\n      <td>155622</td>\n      <td>5548</td>\n      <td>558445</td>\n    </tr>\n    <tr>\n      <th>9</th>\n      <td>random</td>\n      <td>5325</td>\n      <td>75455</td>\n      <td>260000</td>\n      <td>185925</td>\n      <td>8177</td>\n      <td>534882</td>\n    </tr>\n    <tr>\n      <th>10</th>\n      <td>math</td>\n      <td>6389</td>\n      <td>78262</td>\n      <td>245540</td>\n      <td>194693</td>\n      <td>8754</td>\n      <td>533638</td>\n    </tr>\n    <tr>\n      <th>11</th>\n      <td>sys</td>\n      <td>7784</td>\n      <td>73858</td>\n      <td>250441</td>\n      <td>158359</td>\n      <td>9379</td>\n      <td>499821</td>\n    </tr>\n    <tr>\n      <th>12</th>\n      <td>IPython</td>\n      <td>12886</td>\n      <td>81487</td>\n      <td>229599</td>\n      <td>152128</td>\n      <td>7994</td>\n      <td>484094</td>\n    </tr>\n    <tr>\n      <th>13</th>\n      <td>keras</td>\n      <td>2447</td>\n      <td>67837</td>\n      <td>243403</td>\n      <td>120632</td>\n      <td>2653</td>\n      <td>436972</td>\n    </tr>\n    <tr>\n      <th>14</th>\n      <td>datetime</td>\n      <td>5554</td>\n      <td>46305</td>\n      <td>190586</td>\n      <td>180519</td>\n      <td>10067</td>\n      <td>433031</td>\n    </tr>\n    <tr>\n      <th>15</th>\n      <td>re</td>\n      <td>5898</td>\n      <td>48267</td>\n      <td>191965</td>\n      <td>163205</td>\n      <td>7414</td>\n      <td>416749</td>\n    </tr>\n    <tr>\n      <th>16</th>\n      <td>warnings</td>\n      <td>3822</td>\n      <td>37276</td>\n      <td>180478</td>\n      <td>185290</td>\n      <td>6575</td>\n      <td>413441</td>\n    </tr>\n    <tr>\n      <th>17</th>\n      <td>collections</td>\n      <td>5433</td>\n      <td>57516</td>\n      <td>177266</td>\n      <td>116257</td>\n      <td>6051</td>\n      <td>362523</td>\n    </tr>\n    <tr>\n      <th>18</th>\n      <td>json</td>\n      <td>3662</td>\n      <td>41972</td>\n      <td>169014</td>\n      <td>132836</td>\n      <td>7443</td>\n      <td>354927</td>\n    </tr>\n    <tr>\n      <th>19</th>\n      <td>requests</td>\n      <td>2429</td>\n      <td>28801</td>\n      <td>147782</td>\n      <td>153160</td>\n      <td>8229</td>\n      <td>340401</td>\n    </tr>\n  </tbody>\n</table>\n</div>"
     },
     "execution_count": 1,
     "metadata": {},
     "output_type": "execute_result"
    }
   ],
   "source": [
    "import pandas as pd\n",
    "\n",
    "kernel_stats = pd.read_csv('data/libraries_by_python_version.csv')\n",
    "kernel_stats\n",
    "import matplotlib.pyplot as plt\n",
    "\n",
    "plt.pie(kernel_stats[''], labels=kernel_stats['library'])"
   ]
  },
  {
   "cell_type": "code",
   "outputs": [],
   "source": [],
   "metadata": {
    "collapsed": false
   },
   "id": "d12a0d7728290535"
  }
 ],
 "metadata": {
  "kernelspec": {
   "display_name": "Python 3",
   "language": "python",
   "name": "python3"
  },
  "language_info": {
   "codemirror_mode": {
    "name": "ipython",
    "version": 2
   },
   "file_extension": ".py",
   "mimetype": "text/x-python",
   "name": "python",
   "nbconvert_exporter": "python",
   "pygments_lexer": "ipython2",
   "version": "2.7.6"
  }
 },
 "nbformat": 4,
 "nbformat_minor": 5
}
